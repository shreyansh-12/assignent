{
 "cells": [
  {
   "cell_type": "code",
   "execution_count": 1,
   "id": "ce500839-3b5a-4861-97fa-0d096e47dabd",
   "metadata": {},
   "outputs": [],
   "source": [
    "d = {}"
   ]
  },
  {
   "cell_type": "code",
   "execution_count": 3,
   "id": "ee05a5e6-175f-4349-bb5c-78126598a678",
   "metadata": {},
   "outputs": [
    {
     "data": {
      "text/plain": [
       "dict"
      ]
     },
     "execution_count": 3,
     "metadata": {},
     "output_type": "execute_result"
    }
   ],
   "source": [
    "type(d)"
   ]
  },
  {
   "cell_type": "code",
   "execution_count": 4,
   "id": "753be5ad-a55b-461c-9761-2cdd080ad692",
   "metadata": {},
   "outputs": [],
   "source": [
    "d1 = {'key' :\"sudh\"}"
   ]
  },
  {
   "cell_type": "code",
   "execution_count": 5,
   "id": "ec5e83dd-460f-479f-855b-f308944eec3d",
   "metadata": {},
   "outputs": [
    {
     "data": {
      "text/plain": [
       "{'key': 'sudh'}"
      ]
     },
     "execution_count": 5,
     "metadata": {},
     "output_type": "execute_result"
    }
   ],
   "source": [
    "d1"
   ]
  },
  {
   "cell_type": "code",
   "execution_count": 6,
   "id": "ba6fbe31-b393-4c06-a395-9d565c59f7c7",
   "metadata": {},
   "outputs": [],
   "source": [
    "d2 = {'name': \"sudhanshu\",\"email\": \"sss@gmail.com\",\"number\":122334}"
   ]
  },
  {
   "cell_type": "code",
   "execution_count": 7,
   "id": "191fb9c3-aadb-40cd-ae30-efc77062899a",
   "metadata": {},
   "outputs": [
    {
     "data": {
      "text/plain": [
       "{'name': 'sudhanshu', 'email': 'sss@gmail.com', 'number': 122334}"
      ]
     },
     "execution_count": 7,
     "metadata": {},
     "output_type": "execute_result"
    }
   ],
   "source": [
    "d2"
   ]
  },
  {
   "cell_type": "code",
   "execution_count": 16,
   "id": "edee4d64-9aa9-415a-a498-c30d9a1ad8df",
   "metadata": {},
   "outputs": [],
   "source": [
    "d3 = {234 : \"sudh\", \"@dedf\":\"kumar\",True:12334}"
   ]
  },
  {
   "cell_type": "code",
   "execution_count": 10,
   "id": "0a1ffa8b-beac-434e-ae8c-6c9f76b32901",
   "metadata": {},
   "outputs": [
    {
     "data": {
      "text/plain": [
       "{234: 'sudh'}"
      ]
     },
     "execution_count": 10,
     "metadata": {},
     "output_type": "execute_result"
    }
   ],
   "source": [
    "d3"
   ]
  },
  {
   "cell_type": "code",
   "execution_count": 14,
   "id": "efc75c6d-fe01-43f5-9fc3-9c3730c34801",
   "metadata": {},
   "outputs": [
    {
     "data": {
      "text/plain": [
       "{234: 'sudh', '@dedf': 'kumar'}"
      ]
     },
     "execution_count": 14,
     "metadata": {},
     "output_type": "execute_result"
    }
   ],
   "source": [
    "d3"
   ]
  },
  {
   "cell_type": "code",
   "execution_count": 17,
   "id": "ca20941a-0a9d-4035-ae5f-b0f08a4a9107",
   "metadata": {},
   "outputs": [
    {
     "data": {
      "text/plain": [
       "{234: 'sudh', '@dedf': 'kumar', True: 12334}"
      ]
     },
     "execution_count": 17,
     "metadata": {},
     "output_type": "execute_result"
    }
   ],
   "source": [
    "d3"
   ]
  },
  {
   "cell_type": "code",
   "execution_count": 19,
   "id": "ecf1b61e-70be-43f8-97c7-7bb88e9a639e",
   "metadata": {},
   "outputs": [
    {
     "data": {
      "text/plain": [
       "'sudh'"
      ]
     },
     "execution_count": 19,
     "metadata": {},
     "output_type": "execute_result"
    }
   ],
   "source": [
    "d3[234]"
   ]
  },
  {
   "cell_type": "code",
   "execution_count": 20,
   "id": "c9ccba2a-43c2-4163-8f8c-3e3485368c04",
   "metadata": {},
   "outputs": [
    {
     "data": {
      "text/plain": [
       "12334"
      ]
     },
     "execution_count": 20,
     "metadata": {},
     "output_type": "execute_result"
    }
   ],
   "source": [
    "d3[True]"
   ]
  },
  {
   "cell_type": "code",
   "execution_count": 21,
   "id": "1822cb7a-83ca-4097-8174-fe3444e52515",
   "metadata": {},
   "outputs": [
    {
     "data": {
      "text/plain": [
       "12334"
      ]
     },
     "execution_count": 21,
     "metadata": {},
     "output_type": "execute_result"
    }
   ],
   "source": [
    "d3[1]"
   ]
  },
  {
   "cell_type": "code",
   "execution_count": 24,
   "id": "87c7470d-ddee-4a58-9ff0-42dc34c19db3",
   "metadata": {},
   "outputs": [],
   "source": [
    "d4 = {'name':\"sudh\",'@mail':\"ss@gamil.com\",'name':\"sudhanshhu\"}"
   ]
  },
  {
   "cell_type": "code",
   "execution_count": 25,
   "id": "1af2af3b-b08c-4ac0-8680-c664ad8d4961",
   "metadata": {},
   "outputs": [
    {
     "data": {
      "text/plain": [
       "'sudhanshhu'"
      ]
     },
     "execution_count": 25,
     "metadata": {},
     "output_type": "execute_result"
    }
   ],
   "source": [
    "d4['name']"
   ]
  },
  {
   "cell_type": "code",
   "execution_count": 26,
   "id": "c8e44ff7-2aa5-48ae-ba25-cee84cd4660c",
   "metadata": {},
   "outputs": [],
   "source": [
    "d5 = {\"company\":\"pwskills\",\"course\":[\"web dev\", \"data science\", \"java with dsa sytem design\"]}"
   ]
  },
  {
   "cell_type": "code",
   "execution_count": 27,
   "id": "73eab2df-810e-4c31-bf64-7120a252dad0",
   "metadata": {},
   "outputs": [
    {
     "data": {
      "text/plain": [
       "{'company': 'pwskills',\n",
       " 'course': ['web dev', 'data science', 'java with dsa sytem design']}"
      ]
     },
     "execution_count": 27,
     "metadata": {},
     "output_type": "execute_result"
    }
   ],
   "source": [
    "d5"
   ]
  },
  {
   "cell_type": "code",
   "execution_count": 29,
   "id": "1019cc39-41b6-44e8-a991-18344dcb2cad",
   "metadata": {},
   "outputs": [
    {
     "data": {
      "text/plain": [
       "'java with dsa sytem design'"
      ]
     },
     "execution_count": 29,
     "metadata": {},
     "output_type": "execute_result"
    }
   ],
   "source": [
    "d5[\"course\"][2]"
   ]
  },
  {
   "cell_type": "code",
   "execution_count": 36,
   "id": "b69300f7-745f-4afe-b781-cc396e295463",
   "metadata": {},
   "outputs": [
    {
     "ename": "SyntaxError",
     "evalue": "closing parenthesis ')' does not match opening parenthesis '{' (3995382024.py, line 1)",
     "output_type": "error",
     "traceback": [
      "\u001b[0;36m  Cell \u001b[0;32mIn[36], line 1\u001b[0;36m\u001b[0m\n\u001b[0;31m    d6 = {\"number\":[2,3,4,5,76],\"assignment\":(1,2,3,4,5,7), \"launch date\":{23,45,67),\"class timming\":{\"v\":8,\"data sscience\":8,\"java with dsa\":7}}\u001b[0m\n\u001b[0m                                                                                   ^\u001b[0m\n\u001b[0;31mSyntaxError\u001b[0m\u001b[0;31m:\u001b[0m closing parenthesis ')' does not match opening parenthesis '{'\n"
     ]
    }
   ],
   "source": [
    "d6 = {\"number\":[2,3,4,5,76],\"assignment\":(1,2,3,4,5,7), \"launch date\":{23,45,67),\"class timming\":[  \"\",\"data sscience\":8,\"java with dsa\":7}}"
   ]
  },
  {
   "cell_type": "code",
   "execution_count": null,
   "id": "2957c551-f57f-42b0-b9e2-296dc0e85799",
   "metadata": {},
   "outputs": [],
   "source": []
  }
 ],
 "metadata": {
  "kernelspec": {
   "display_name": "Python 3 (ipykernel)",
   "language": "python",
   "name": "python3"
  },
  "language_info": {
   "codemirror_mode": {
    "name": "ipython",
    "version": 3
   },
   "file_extension": ".py",
   "mimetype": "text/x-python",
   "name": "python",
   "nbconvert_exporter": "python",
   "pygments_lexer": "ipython3",
   "version": "3.10.8"
  }
 },
 "nbformat": 4,
 "nbformat_minor": 5
}
